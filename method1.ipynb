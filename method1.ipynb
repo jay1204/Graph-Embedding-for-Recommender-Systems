{
 "cells": [
  {
   "cell_type": "code",
   "execution_count": 30,
   "metadata": {
    "collapsed": true
   },
   "outputs": [],
   "source": [
    "import sys\n",
    "import random\n",
    "from rec2vec import graph\n",
    "from gensim.models import Word2Vec\n",
    "from argparse import ArgumentParser, ArgumentDefaultsHelpFormatter\n",
    "from time import time\n",
    "import numpy as np\n",
    "from sklearn.metrics import confusion_matrix, accuracy_score, mean_squared_error"
   ]
  },
  {
   "cell_type": "code",
   "execution_count": 31,
   "metadata": {
    "collapsed": true
   },
   "outputs": [],
   "source": [
    "def predict_rating(model, nodedict, user, movie):\n",
    "    \"\"\"\n",
    "    Predicts the rating between a user and a movie by finding the movie-rating node with the highest\n",
    "    similarity to the given user node.\n",
    "    Loops through the five possible movie-rating nodes and finds the node with the highest similarity to the user.\n",
    "    \n",
    "    Returns an integer rating 1-5.\n",
    "    \"\"\"\n",
    "    # YOUR CODE HERE\n",
    "    similarities = []\n",
    "\n",
    "    for i in range(1,6):\n",
    "        similarities.append(model.similarity(str(nodedict[user].id), str(nodedict[movie+\"_\"+str(i)].id)))\n",
    "\n",
    "    mostSimilar = max(similarities)\n",
    "    index  = 1\n",
    "    for i in range(1, 5):\n",
    "        if similarities[i] == mostSimilar:\n",
    "            index = i + 1\n",
    "\n",
    "    return index"
   ]
  },
  {
   "cell_type": "code",
   "execution_count": 32,
   "metadata": {
    "collapsed": true
   },
   "outputs": [],
   "source": [
    "nodedict = graph.records_to_graph()"
   ]
  },
  {
   "cell_type": "code",
   "execution_count": 33,
   "metadata": {
    "collapsed": true
   },
   "outputs": [],
   "source": [
    "G = graph.load_adjacencylist(\"out.adj\", undirected=True)"
   ]
  },
  {
   "cell_type": "code",
   "execution_count": 34,
   "metadata": {
    "collapsed": false
   },
   "outputs": [],
   "source": [
    "embed = graph.build_deepwalk_corpus(G, 2, 2, rand=random.Random(0))"
   ]
  },
  {
   "cell_type": "code",
   "execution_count": 35,
   "metadata": {
    "collapsed": false
   },
   "outputs": [],
   "source": [
    "model = Word2Vec(embed, size=64, window=5, min_count=0, workers=4)"
   ]
  },
  {
   "cell_type": "code",
   "execution_count": 36,
   "metadata": {
    "collapsed": false
   },
   "outputs": [
    {
     "name": "stdout",
     "output_type": "stream",
     "text": [
      "MSE = 3.460930\n",
      "accuracy = 0.197824\n",
      "[[  4   2   9   3   3]\n",
      " [ 13  12  16  12  11]\n",
      " [ 36  50  53  60  40]\n",
      " [ 79  88  96  85 102]\n",
      " [ 56  45  48  42  46]]\n"
     ]
    }
   ],
   "source": [
    "with open(\"./data/test_user_ratings.dat\") as fin:\n",
    "    fin.next()\n",
    "    groundtruth = [line.strip().split(\"\\t\")[:3] for line in fin]    # (user, movie, rating)\n",
    "tr = [int(round(float(g[2]))) for g in groundtruth]\n",
    "pr = [predict_rating(model, nodedict, \"u\"+str(g[0]), \"m\"+str(g[1])) for g in groundtruth]\n",
    "\n",
    "print \"MSE = %f\" % mean_squared_error(tr, pr)\n",
    "print \"accuracy = %f\" % accuracy_score(tr, pr)\n",
    "cm = confusion_matrix(tr, pr, labels=range(1,6))\n",
    "print cm"
   ]
  },
  {
   "cell_type": "code",
   "execution_count": null,
   "metadata": {
    "collapsed": true
   },
   "outputs": [],
   "source": []
  },
  {
   "cell_type": "code",
   "execution_count": null,
   "metadata": {
    "collapsed": true
   },
   "outputs": [],
   "source": []
  }
 ],
 "metadata": {
  "kernelspec": {
   "display_name": "Python 2",
   "language": "python",
   "name": "python2"
  },
  "language_info": {
   "codemirror_mode": {
    "name": "ipython",
    "version": 2
   },
   "file_extension": ".py",
   "mimetype": "text/x-python",
   "name": "python",
   "nbconvert_exporter": "python",
   "pygments_lexer": "ipython2",
   "version": "2.7.6"
  }
 },
 "nbformat": 4,
 "nbformat_minor": 0
}
