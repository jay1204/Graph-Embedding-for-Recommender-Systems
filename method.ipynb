{
 "cells": [
  {
   "cell_type": "code",
   "execution_count": 1,
   "metadata": {
    "collapsed": true
   },
   "outputs": [],
   "source": [
    "#!/usr/bin/env python\n",
    "# -*- coding: utf-8 -*-\n",
    "\n",
    "\"\"\"Graph utilities.\"\"\"\n",
    "\n",
    "import logging\n",
    "import sys\n",
    "from os import path\n",
    "from time import time\n",
    "from glob import glob\n",
    "from six.moves import range, zip, zip_longest\n",
    "from six import iterkeys\n",
    "from collections import defaultdict, Iterable\n",
    "from multiprocessing import cpu_count\n",
    "import random\n",
    "import collections\n",
    "from random import shuffle\n",
    "from itertools import product,permutations\n",
    "from scipy.io import loadmat\n",
    "from scipy.sparse import issparse\n",
    "\n",
    "from concurrent.futures import ProcessPoolExecutor\n",
    "\n",
    "from multiprocessing import Pool\n",
    "from multiprocessing import cpu_count\n",
    "\n",
    "\n",
    "\n",
    "logger = logging.getLogger(\"deepwalk\")\n",
    "\n",
    "\n",
    "__author__ = \"Bryan Perozzi\"\n",
    "__email__ = \"bperozzi@cs.stonybrook.edu\"\n",
    "\n",
    "LOGFORMAT = \"%(asctime).19s %(levelname)s %(filename)s: %(lineno)s %(message)s\"\n",
    "\n",
    "\n",
    "class Node(object):\n",
    "    def __init__(self, id, name, type='user'):\n",
    "        self.id = str(id)\n",
    "        self.neighbors = []\n",
    "        self.name = name\n",
    "        self.type = type\n",
    "        self.rating = {}\n",
    "\n",
    "class Movie(object):\n",
    "    def __init__(self, name):\n",
    "        self.name = name\n",
    "        self.director = None\n",
    "        self.actors = [] \n",
    "        self.genres = []"
   ]
  },
  {
   "cell_type": "code",
   "execution_count": 2,
   "metadata": {
    "collapsed": true
   },
   "outputs": [],
   "source": [
    "class Graph(defaultdict):\n",
    "  \"\"\"Efficient basic implementation of nx `Graph' â€“ Undirected graphs with self loops\"\"\"  \n",
    "  def __init__(self):\n",
    "    super(Graph, self).__init__(list)\n",
    "\n",
    "  def nodes(self):\n",
    "    return self.keys()\n",
    "\n",
    "  def adjacency_iter(self):\n",
    "    return self.iteritems()\n",
    "\n",
    "  def subgraph(self, nodes={}):\n",
    "    subgraph = Graph()\n",
    "    \n",
    "    for n in nodes:\n",
    "      if n in self:\n",
    "        subgraph[n] = [x for x in self[n] if x in nodes]\n",
    "        \n",
    "    return subgraph\n",
    "\n",
    "  def make_undirected(self):\n",
    "  \n",
    "    t0 = time()\n",
    "\n",
    "    for v in self.keys():\n",
    "      for other in self[v]:\n",
    "        if v != other:\n",
    "          self[other].append(v)\n",
    "    \n",
    "    t1 = time()\n",
    "    logger.info('make_directed: added missing edges {}s'.format(t1-t0))\n",
    "\n",
    "    self.make_consistent()\n",
    "    return self\n",
    "\n",
    "  def make_consistent(self):\n",
    "    t0 = time()\n",
    "    for k in iterkeys(self):\n",
    "      self[k] = list(sorted(set(self[k])))\n",
    "    \n",
    "    t1 = time()\n",
    "    logger.info('make_consistent: made consistent in {}s'.format(t1-t0))\n",
    "\n",
    "    self.remove_self_loops()\n",
    "\n",
    "    return self\n",
    "\n",
    "  def remove_self_loops(self):\n",
    "\n",
    "    removed = 0\n",
    "    t0 = time()\n",
    "\n",
    "    for x in self:\n",
    "      if x in self[x]: \n",
    "        self[x].remove(x)\n",
    "        removed += 1\n",
    "    \n",
    "    t1 = time()\n",
    "\n",
    "    logger.info('remove_self_loops: removed {} loops in {}s'.format(removed, (t1-t0)))\n",
    "    return self\n",
    "\n",
    "  def check_self_loops(self):\n",
    "    for x in self:\n",
    "      for y in self[x]:\n",
    "        if x == y:\n",
    "          return True\n",
    "    \n",
    "    return False\n",
    "\n",
    "  def has_edge(self, v1, v2):\n",
    "    if v2 in self[v1] or v1 in self[v2]:\n",
    "      return True\n",
    "    return False\n",
    "\n",
    "  def degree(self, nodes=None):\n",
    "    if isinstance(nodes, Iterable):\n",
    "      return {v:len(self[v]) for v in nodes}\n",
    "    else:\n",
    "      return len(self[nodes])\n",
    "\n",
    "  def order(self):\n",
    "    \"Returns the number of nodes in the graph\"\n",
    "    return len(self)    \n",
    "\n",
    "  def number_of_edges(self):\n",
    "    \"Returns the number of nodes in the graph\"\n",
    "    return sum([self.degree(x) for x in self.keys()])/2\n",
    "\n",
    "  def number_of_nodes(self):\n",
    "    \"Returns the number of nodes in the graph\"\n",
    "    return order()\n",
    "\n",
    "  def random_walk(self, path_length, alpha=0, rand=random.Random(), start=None):\n",
    "    \"\"\" Returns a truncated random walk.\n",
    "\n",
    "        path_length: Length of the random walk.\n",
    "        alpha: probability of restarts.\n",
    "        start: the start node of the random walk.\n",
    "    \"\"\"\n",
    "    G = self\n",
    "    if start:\n",
    "      path = [start]\n",
    "    else:\n",
    "      # Sampling is uniform w.r.t V, and not w.r.t E\n",
    "      path = [rand.choice(G.keys())]\n",
    "\n",
    "    while len(path) < path_length:\n",
    "      cur = path[-1]\n",
    "      if len(G[cur]) > 0:\n",
    "        if rand.random() >= alpha:\n",
    "          path.append(rand.choice(G[cur]))\n",
    "        else:\n",
    "          path.append(path[0])\n",
    "      else:\n",
    "        break\n",
    "    return path\n",
    "\n",
    "# TODO add build_walks in here\n",
    "\n",
    "def build_deepwalk_corpus(G, num_paths, path_length, alpha=0,\n",
    "                      rand=random.Random(0)):\n",
    "  walks = []\n",
    "\n",
    "  nodes = list(G.nodes())\n",
    "  \n",
    "  for cnt in range(num_paths):\n",
    "    rand.shuffle(nodes)\n",
    "    for node in nodes:\n",
    "      walks.append(G.random_walk(path_length, rand=rand, alpha=alpha, start=node))\n",
    "  \n",
    "  return walks\n",
    "\n",
    "def build_deepwalk_corpus_iter(G, num_paths, path_length, alpha=0,\n",
    "                      rand=random.Random(0)):\n",
    "  walks = []\n",
    "\n",
    "  nodes = list(G.nodes())\n",
    "\n",
    "  for cnt in range(num_paths):\n",
    "    rand.shuffle(nodes)\n",
    "    for node in nodes:\n",
    "      yield G.random_walk(path_length, rand=rand, alpha=alpha, start=node)\n",
    "\n",
    "\n",
    "def clique(size):\n",
    "    return from_adjlist(permutations(range(1,size+1)))\n",
    "\n",
    "\n",
    "# http://stackoverflow.com/questions/312443/how-do-you-split-a-list-into-evenly-sized-chunks-in-python\n",
    "def grouper(n, iterable, padvalue=None):\n",
    "    \"grouper(3, 'abcdefg', 'x') --> ('a','b','c'), ('d','e','f'), ('g','x','x')\"\n",
    "    return zip_longest(*[iter(iterable)]*n, fillvalue=padvalue)\n",
    "\n",
    "def parse_adjacencylist(f):\n",
    "  adjlist = []\n",
    "  for l in f:\n",
    "    if l and l[0] != \"#\":\n",
    "      introw = [int(x) for x in l.strip().split()]\n",
    "      row = [introw[0]]\n",
    "      row.extend(set(sorted(introw[1:])))\n",
    "      adjlist.extend([row])\n",
    "  \n",
    "  return adjlist\n",
    "\n",
    "def parse_adjacencylist_unchecked(f):\n",
    "  adjlist = []\n",
    "  for l in f:\n",
    "    if l and l[0] != \"#\":\n",
    "      adjlist.extend([[int(x) for x in l.strip().split()]])\n",
    "  \n",
    "  return adjlist\n",
    "\n",
    "def load_adjacencylist(file_, undirected=False, chunksize=10000, unchecked=True):\n",
    "\n",
    "  if unchecked:\n",
    "    parse_func = parse_adjacencylist_unchecked\n",
    "    convert_func = from_adjlist_unchecked\n",
    "  else:\n",
    "    parse_func = parse_adjacencylist\n",
    "    convert_func = from_adjlist\n",
    "\n",
    "  adjlist = []\n",
    "\n",
    "  t0 = time()\n",
    "\n",
    "  with open(file_) as f:\n",
    "    with ProcessPoolExecutor(max_workers=cpu_count()) as executor:\n",
    "      total = 0 \n",
    "      for idx, adj_chunk in enumerate(executor.map(parse_func, grouper(int(chunksize), f))):\n",
    "          adjlist.extend(adj_chunk)\n",
    "          total += len(adj_chunk)\n",
    "  \n",
    "  t1 = time()\n",
    "\n",
    "  logger.info('Parsed {} edges with {} chunks in {}s'.format(total, idx, t1-t0))\n",
    "\n",
    "  t0 = time()\n",
    "  G = convert_func(adjlist)\n",
    "  t1 = time()\n",
    "\n",
    "  logger.info('Converted edges to graph in {}s'.format(t1-t0))\n",
    "\n",
    "  if undirected:\n",
    "    t0 = time()\n",
    "    G = G.make_undirected()\n",
    "    t1 = time()\n",
    "    logger.info('Made graph undirected in {}s'.format(t1-t0))\n",
    "\n",
    "  return G \n",
    "\n",
    "\n",
    "def load_edgelist(file_, undirected=True):\n",
    "  G = Graph()\n",
    "  with open(file_) as f:\n",
    "    for l in f:\n",
    "      x, y = l.strip().split()[:2]\n",
    "      x = int(x)\n",
    "      y = int(y)\n",
    "      G[x].append(y)\n",
    "      if undirected:\n",
    "        G[y].append(x)\n",
    "  \n",
    "  G.make_consistent()\n",
    "  return G\n",
    "\n",
    "\n",
    "def load_matfile(file_, variable_name=\"network\", undirected=True):\n",
    "  mat_varables = loadmat(file_)\n",
    "  mat_matrix = mat_varables[variable_name]\n",
    "\n",
    "  return from_numpy(mat_matrix, undirected)\n",
    "\n",
    "\n",
    "def from_networkx(G_input, undirected=True):\n",
    "    G = Graph()\n",
    "\n",
    "    for idx, x in enumerate(G_input.nodes_iter()):\n",
    "        for y in iterkeys(G_input[x]):\n",
    "            G[x].append(y)\n",
    "\n",
    "    if undirected:\n",
    "        G.make_undirected()\n",
    "\n",
    "    return G\n",
    "\n",
    "\n",
    "def from_numpy(x, undirected=True):\n",
    "    G = Graph()\n",
    "\n",
    "    if issparse(x):\n",
    "        cx = x.tocoo()\n",
    "        for i,j,v in zip(cx.row, cx.col, cx.data):\n",
    "            G[i].append(j)\n",
    "    else:\n",
    "      raise Exception(\"Dense matrices not yet supported.\")\n",
    "\n",
    "    if undirected:\n",
    "        G.make_undirected()\n",
    "\n",
    "    G.make_consistent()\n",
    "    return G\n",
    "\n",
    "\n",
    "def from_adjlist(adjlist):\n",
    "    G = Graph()\n",
    "    \n",
    "    for row in adjlist:\n",
    "        node = row[0]\n",
    "        neighbors = row[1:]\n",
    "        G[node] = list(sorted(set(neighbors)))\n",
    "\n",
    "    return G\n",
    "\n",
    "\n",
    "def from_adjlist_unchecked(adjlist):\n",
    "    G = Graph()\n",
    "    \n",
    "    for row in adjlist:\n",
    "        node = str(row[0])\n",
    "        neighbors = map(str, row[1:])\n",
    "        G[node] = neighbors\n",
    "\n",
    "    return G"
   ]
  },
  {
   "cell_type": "code",
   "execution_count": 3,
   "metadata": {
    "collapsed": true
   },
   "outputs": [],
   "source": [
    "def load_movie_data():\n",
    "    # Movie data files used for building the graph\n",
    "    movies_directors_filename = \"data/movie_directors.dat\"\n",
    "    movies_actors_filename = \"data/movie_actors.dat\"\n",
    "    movies_genres_filename = \"data/movie_genres.dat\"\n",
    "    movies_filename = \"data/movies.dat\"\n",
    "    \n",
    "    # Load the data about the movies into a dictionary\n",
    "    # The dictionary maps a movie ID to a movie object\n",
    "    # Also store the unique directors, actors, and genres\n",
    "    movies = {}\n",
    "    with open(movies_filename, \"r\") as fin:\n",
    "        fin.next()  # burn metadata line\n",
    "        for line in fin:\n",
    "            m_id, name = line.strip().split()[:2]\n",
    "            movies[\"m\"+m_id] = Movie(name)\n",
    "    \n",
    "    directors = set([])\n",
    "    with open(movies_directors_filename, \"r\") as fin:\n",
    "        fin.next()  # burn metadata line\n",
    "        for line in fin:\n",
    "            m_id, director = line.strip().split()[:2]\n",
    "            if \"m\"+m_id in movies:\n",
    "                movies[\"m\"+m_id].director = director\n",
    "            directors.add(director)\n",
    "    \n",
    "    actors = set([])\n",
    "    with open(movies_actors_filename, \"r\") as fin:\n",
    "        fin.next()  # burn metadata line\n",
    "        for line in fin:\n",
    "            m_id, actor = line.strip().split()[:2]\n",
    "            if \"m\"+m_id in movies:\n",
    "                movies[\"m\"+m_id].actors.append(actor)\n",
    "            actors.add(actor)\n",
    "    \n",
    "    genres = set([])\n",
    "    with open(movies_genres_filename, \"r\") as fin:\n",
    "        fin.next()  # burn metadata line\n",
    "        for line in fin:\n",
    "            m_id, genre = line.strip().split()\n",
    "            if \"m\"+m_id in movies:\n",
    "                movies[\"m\"+m_id].genres.append(genre)\n",
    "            genres.add(genre)\n",
    "\n",
    "    return movies, directors, actors, genres"
   ]
  },
  {
   "cell_type": "code",
   "execution_count": 4,
   "metadata": {
    "collapsed": false
   },
   "outputs": [],
   "source": [
    "adjlist_file = open(\"out.adj\", 'w')\n",
    "node_list_file = open(\"nodelist.txt\", 'w')"
   ]
  },
  {
   "cell_type": "code",
   "execution_count": 5,
   "metadata": {
    "collapsed": false
   },
   "outputs": [],
   "source": [
    "# Load all the ratings for every user into a dictionary\n",
    "    # The dictionary maps a user to a list of (movie, rating) pairs\n",
    "    #   e.g., ratings[75] = [(3,1), (32,4.5), ...]\n",
    "num_ratings = 0\n",
    "ratings = collections.defaultdict(dict)\n",
    "with open(\"data/train_user_ratings.dat\", \"r\") as fin:\n",
    "    fin.next()  # burn metadata line\n",
    "    for line in fin:\n",
    "        ls = line.strip().split(\"\\t\")\n",
    "        user, movie, rating = ls[:3]\n",
    "        rating = str(int(round(float(rating))))\n",
    "        ratings[\"u\"+user][\"m\"+movie] = rating\n",
    "        num_ratings += 1"
   ]
  },
  {
   "cell_type": "code",
   "execution_count": 6,
   "metadata": {
    "collapsed": false
   },
   "outputs": [],
   "source": [
    "movies, directors, actors, genres = load_movie_data()"
   ]
  },
  {
   "cell_type": "code",
   "execution_count": 7,
   "metadata": {
    "collapsed": false
   },
   "outputs": [
    {
     "name": "stdout",
     "output_type": "stream",
     "text": [
      "{'m296': '4', 'm1961': '4', 'm292': '3', 'm357': '3', 'm161': '4', 'm480': '3', 'm165': '1', 'm350': '1', 'm50': '5', 'm208': '3', 'm4973': '5', 'm7063': '5', 'm589': '1', 'm586': '1', 'm367': '1', 'm26828': '1', 'm608': '4', 'm1393': '3', 'm457': '5', 'm593': '4', 'm27741': '5', 'm597': '1', 'm33794': '3', 'm33493': '4', 'm1704': '4', 'm1265': '4', 'm5989': '4', 'm1784': '4', 'm7361': '1', 'm32': '2', 'm1517': '1', 'm442': '1', 'm6377': '4', 'm1307': '4', 'm7023': '5', 'm1580': '3', 'm788': '1', 'm5445': '3', 'm786': '1', 'm45720': '4', 'm260': '4', 'm2997': '4', 'm380': '1', 'm3793': '1', 'm4886': '3', 'm1279': '5', 'm21': '4', 'm41585': '1', 'm3996': '4', 'm541': '5', 'm7153': '5', 'm1073': '3', 'm141': '5', 'm2858': '4', 'm1079': '5', 'm5618': '5', 'm39183': '5', 'm2762': '5', 'm1923': '3', 'm6711': '5', 'm924': '5', 'm6': '3', 'm1208': '5', 'm2683': '1', 'm648': '3', 'm1610': '4', 'm2324': '5', 'm1617': '4', 'm1527': '4', 'm4226': '5', 'm2571': '4', 'm27255': '5', 'm1196': '4', 'm316': '1', 'm1193': '5', 'm25': '3', 'm2970': '5', 'm318': '5', 'm1198': '1', 'm3328': '5', 'm539': '4', 'm736': '2', 'm733': '2', 'm2706': '1', 'm1101': '1', 'm1221': '4', 'm1225': '5', 'm34437': '5', 'm4995': '4', 'm4993': '4', 'm2028': '3', 'm349': '3', 'm6669': '5', 'm111': '4', 'm508': '5', 'm509': '5', 'm3114': '5', 'm6867': '5', 'm919': '4', 'm62': '4', 'm2716': '2', 'm232': '5', 'm185': '1'}\n"
     ]
    }
   ],
   "source": [
    "print ratings['u383']"
   ]
  },
  {
   "cell_type": "code",
   "execution_count": 8,
   "metadata": {
    "collapsed": false
   },
   "outputs": [
    {
     "name": "stdout",
     "output_type": "stream",
     "text": [
      "<__main__.Movie object at 0x7f50d3c69210>\n"
     ]
    }
   ],
   "source": [
    "print movies['m4511']"
   ]
  },
  {
   "cell_type": "code",
   "execution_count": 9,
   "metadata": {
    "collapsed": true
   },
   "outputs": [],
   "source": [
    "nodelist = []\n",
    "nodedict = {}"
   ]
  },
  {
   "cell_type": "code",
   "execution_count": 10,
   "metadata": {
    "collapsed": false
   },
   "outputs": [
    {
     "name": "stdout",
     "output_type": "stream",
     "text": [
      "['u383', 'u190', 'u533', 'u170', 'u894', 'u732', 'u127', 'u267', 'u1164', 'u1035', 'u636', 'u637', 'u1017', 'u937', 'u1122', 'u1160', 'u78', 'u175', 'u728', 'u75', 'u476', 'u477', 'u498', 'u493', 'u548', 'u1174', 'u1198', 'u580', 'u1047', 'u622', 'u545', 'u1117', 'u325', 'u922', 'u783', 'u788', 'u1118', 'u1224']\n"
     ]
    }
   ],
   "source": [
    "count = 0 \n",
    "print ratings.keys()"
   ]
  },
  {
   "cell_type": "code",
   "execution_count": 15,
   "metadata": {
    "collapsed": false
   },
   "outputs": [],
   "source": [
    "for user in ratings.keys():\n",
    "        nodedict[user] = Node(count, user, 'user')\n",
    "        nodelist.append(nodedict[user])\n",
    "        count = count + 1\n",
    "\n",
    "for movie in movies.keys():\n",
    "    nodedict[movie] = Node(count, movie, 'movie')\n",
    "    nodelist.append(nodedict[movie])\n",
    "    count = count + 1\n",
    "\n",
    "for director in directors:\n",
    "    nodedict[director] = Node(count, director, 'director')\n",
    "    nodelist.append(nodedict[director])\n",
    "    count = count + 1\n",
    "\n",
    "for genre in genres:\n",
    "    nodedict[genre] = Node(count, genre, 'genre')\n",
    "    nodelist.append(nodedict[genre])\n",
    "    count = count + 1\n",
    "\n",
    "for actor in actors:\n",
    "    nodedict[actor] = Node(count, actor, 'actor')\n",
    "    nodelist.append(nodedict[actor])\n",
    "    count = count + 1\n",
    "\n",
    "for movie in movies.keys():\n",
    "    for i in range(1,6):\n",
    "        nodedict[movie+\"_\"+str(i)] = Node(count, movie+\"_\"+str(i),'rating')\n",
    "        nodelist.append(nodedict[movie+\"_\"+str(i)])\n",
    "        count = count + 1\n",
    "\n",
    "# Add edges between users and movie-rating nodes\n",
    "# Add edges between movie ratings and movies\n",
    "for user in ratings.keys():\n",
    "    for movie, rating in ratings[user].items():\n",
    "        nodedict[user].neighbors.append(nodedict[movie+\"_\"+rating])\n",
    "        nodedict[movie+\"_\"+rating].neighbors.append(nodedict[user])\n",
    "        nodedict[movie].neighbors.append(nodedict[movie+\"_\"+rating])\n",
    "        nodedict[movie+\"_\"+rating].neighbors.append(nodedict[movie])\n",
    "# Add edges between movies and directors\n",
    "# Add edges between movies and actors\n",
    "# Add edges between movies and genres\n",
    "for movie, m in movies.items():\n",
    "    if m.director is not None:\n",
    "        nodedict[movie].neighbors.append(nodedict[m.director])\n",
    "        nodedict[m.director].neighbors.append(nodedict[movie])\n",
    "    if not m.actors:\n",
    "        for actor in m.actors:\n",
    "            nodedict[movie].neighbors.append(nodedict[actor])\n",
    "            nodedict[actor].neighbors.append(nodedict[movie])\n",
    "    if not m.genres:\n",
    "        for genre in m.genres:\n",
    "            nodedict[movie].neighbors.append(nodedict[genre])\n",
    "            nodedict[genre].neighbors.append(nodedict[movie])"
   ]
  },
  {
   "cell_type": "code",
   "execution_count": null,
   "metadata": {
    "collapsed": false
   },
   "outputs": [],
   "source": []
  },
  {
   "cell_type": "code",
   "execution_count": 47,
   "metadata": {
    "collapsed": false
   },
   "outputs": [],
   "source": [
    "for user in ratings.keys():\n",
    "    nodelist.append(Node(count, user, 'user'))\n",
    "    nodedict[user] = count\n",
    "    count = count + 1"
   ]
  },
  {
   "cell_type": "code",
   "execution_count": 48,
   "metadata": {
    "collapsed": false
   },
   "outputs": [],
   "source": [
    "for movie in movies.keys():\n",
    "    nodelist.append(Node(count, movie, 'movie'))\n",
    "    nodedict[movie] = count\n",
    "    count = count + 1"
   ]
  },
  {
   "cell_type": "code",
   "execution_count": 49,
   "metadata": {
    "collapsed": true
   },
   "outputs": [],
   "source": [
    "for director in directors:\n",
    "    nodelist.append(Node(count, director, 'director'))\n",
    "    nodedict[director] = count\n",
    "    count = count + 1"
   ]
  },
  {
   "cell_type": "code",
   "execution_count": 50,
   "metadata": {
    "collapsed": true
   },
   "outputs": [],
   "source": [
    "for genre in genres:\n",
    "    nodelist.append(Node(count, genre, 'genre'))\n",
    "    nodedict[genre] = count\n",
    "    count = count + 1"
   ]
  },
  {
   "cell_type": "code",
   "execution_count": 51,
   "metadata": {
    "collapsed": true
   },
   "outputs": [],
   "source": [
    "for actor in actors:\n",
    "    nodelist.append(Node(count, actor, 'actor'))\n",
    "    nodedict[actor] = count\n",
    "    count = count + 1"
   ]
  },
  {
   "cell_type": "code",
   "execution_count": 52,
   "metadata": {
    "collapsed": false
   },
   "outputs": [],
   "source": [
    "for movie in movies.keys():\n",
    "    for i in range(1,6):\n",
    "        nodelist.append(Node(count, movie+\"_\"+str(i),'rating'))\n",
    "        nodedict[movie+\"_\"+str(i)] = count\n",
    "        count = count + 1"
   ]
  },
  {
   "cell_type": "code",
   "execution_count": 53,
   "metadata": {
    "collapsed": false
   },
   "outputs": [],
   "source": [
    "for user in ratings.keys():\n",
    "    for movie, rating in ratings[user].items():\n",
    "        nodelist[nodedict[user]].neighbors.append(nodelist[nodedict[movie+\"_\"+rating]])\n",
    "        nodelist[nodedict[movie+\"_\"+rating]].neighbors.append(nodelist[nodedict[user]])\n",
    "        nodelist[nodedict[movie]].neighbors.append(nodelist[nodedict[movie+\"_\"+rating]])\n",
    "        nodelist[nodedict[movie+\"_\"+rating]].neighbors.append(nodelist[nodedict[movie]])"
   ]
  },
  {
   "cell_type": "code",
   "execution_count": 54,
   "metadata": {
    "collapsed": true
   },
   "outputs": [],
   "source": [
    "for movie, m in movies.items():\n",
    "    if m.director is not None:\n",
    "        nodelist[nodedict[movie]].neighbors.append(nodelist[nodedict[m.director]])\n",
    "        nodelist[nodedict[m.director]].neighbors.append(nodelist[nodedict[movie]])\n",
    "    if not m.actors:\n",
    "        for actor in m.actors:\n",
    "            nodelist[nodedict[movie]].neighbors.append(nodelist[nodedict[actor]])\n",
    "            nodelist[nodedict[actor]].neighbors.append(nodelist[nodedict[movie]])\n",
    "    if not m.genres:\n",
    "        for genre in m.genres:\n",
    "            nodelist[nodedict[movie]].neighbors.append(nodelist[nodedict[genre]])\n",
    "            nodelist[nodedict[genre]].neighbors.append(nodelist[nodedict[movie]])"
   ]
  },
  {
   "cell_type": "code",
   "execution_count": 17,
   "metadata": {
    "collapsed": true
   },
   "outputs": [],
   "source": [
    "for node in nodelist:\n",
    "    node_list_file.write(\"%s\\t%s\\t%s\\n\" % (node.id, node.name, node.type))\n",
    "    adjlist_file.write(\"%s \" % node.id)\n",
    "    for n in node.neighbors:\n",
    "        adjlist_file.write(\"%s \" % n.id)\n",
    "    adjlist_file.write(\"\\n\")\n",
    "adjlist_file.close()\n",
    "node_list_file.close()"
   ]
  },
  {
   "cell_type": "code",
   "execution_count": null,
   "metadata": {
    "collapsed": true
   },
   "outputs": [],
   "source": []
  }
 ],
 "metadata": {
  "kernelspec": {
   "display_name": "Python 2",
   "language": "python",
   "name": "python2"
  },
  "language_info": {
   "codemirror_mode": {
    "name": "ipython",
    "version": 2
   },
   "file_extension": ".py",
   "mimetype": "text/x-python",
   "name": "python",
   "nbconvert_exporter": "python",
   "pygments_lexer": "ipython2",
   "version": "2.7.6"
  }
 },
 "nbformat": 4,
 "nbformat_minor": 0
}
